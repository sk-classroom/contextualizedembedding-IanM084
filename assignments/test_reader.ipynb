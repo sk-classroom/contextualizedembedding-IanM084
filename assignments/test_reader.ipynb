{
 "cells": [
  {
   "cell_type": "code",
   "execution_count": 8,
   "metadata": {},
   "outputs": [],
   "source": [
    "import unittest\n",
    "import numpy as np\n",
    "import sys\n",
    "import pandas as pd\n",
    "from scipy import stats\n",
    "\n",
    "from sklearn.discriminant_analysis import LinearDiscriminantAnalysis\n",
    "\n",
    "class TestContextualEmbedding(unittest.TestCase):\n",
    "\n",
    "    def setUp(self):\n",
    "        self.root = \"..\"\n",
    "\n",
    "    def test_contextual_embedding(self):\n",
    "\n",
    "        df = pd.read_csv(f\"{self.root}/data/eval_test_01.csv\")\n",
    "        labels = df[\"label\"].values\n",
    "        K = len(set(labels))\n",
    "        X = df.drop(columns=[\"label\"]).values\n",
    "        clf = LinearDiscriminantAnalysis(n_components=K - 1).fit(X, labels)\n",
    "        score = clf.score(X, labels)\n",
    "        assert score > 0.5\n",
    "\n",
    "    def test_non_contextual_embedding(self):\n",
    "        df = pd.read_csv(f\"{self.root}/data/eval_test_01.csv\")\n",
    "        labels = df[\"label\"].values\n",
    "        K = len(set(labels))\n",
    "        X = df.drop(columns=[\"label\"]).values\n",
    "        clf = LinearDiscriminantAnalysis(n_components=K - 1).fit(X, labels)\n",
    "        score = clf.score(X, labels)\n",
    "        assert score > 0.5, f\"Complete the assignment 01\"\n",
    "\n",
    "        df = pd.read_csv(f\"{self.root}/data/eval_test_02.csv\")\n",
    "        labels = df[\"label\"].values\n",
    "        K = len(set(labels))\n",
    "        X = df.drop(columns=[\"label\"]).values\n",
    "        clf = LinearDiscriminantAnalysis(n_components=K - 1).fit(X, labels)\n",
    "        score2 = clf.score(X, labels)\n",
    "        print(score,score2)\n",
    "        assert (\n",
    "            score > score2\n",
    "        ), f\"The non-contextual embedding should be less discriminative than the contextual embedding.\""
   ]
  },
  {
   "cell_type": "code",
   "execution_count": 9,
   "metadata": {},
   "outputs": [
    {
     "name": "stdout",
     "output_type": "stream",
     "text": [
      "0.95 0.93\n"
     ]
    }
   ],
   "source": [
    "tester = TestContextualEmbedding()\n",
    "tester.setUp()\n",
    "tester.test_non_contextual_embedding()"
   ]
  }
 ],
 "metadata": {
  "kernelspec": {
   "display_name": "Python 3",
   "language": "python",
   "name": "python3"
  },
  "language_info": {
   "codemirror_mode": {
    "name": "ipython",
    "version": 3
   },
   "file_extension": ".py",
   "mimetype": "text/x-python",
   "name": "python",
   "nbconvert_exporter": "python",
   "pygments_lexer": "ipython3",
   "version": "3.10.13"
  }
 },
 "nbformat": 4,
 "nbformat_minor": 2
}
